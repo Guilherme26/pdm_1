{
 "cells": [
  {
   "cell_type": "markdown",
   "metadata": {},
   "source": [
    "Reference https://developer.twitter.com/en/docs/tweets/data-dictionary/overview/tweet-object\n",
    "- quais as 10 hashtags que foram mais publicadas dentro de uma hora qualquer durante o período da coleta? Isto é, para cada hora, do minuto 00 até o minuto 59, conte quantas vezes cada hashtag aparece. Ao final, identifique quais as 10 hashtags diferentes, o dia/hora em que cada uma foi mais frequente e quantas vezes ela apareceu naquela hora."
   ]
  },
  {
   "cell_type": "code",
   "execution_count": 1,
   "metadata": {},
   "outputs": [],
   "source": [
    "from pyspark.sql import SparkSession\n",
    "from pyspark.sql import functions as F\n",
    "\n",
    "from pyspark.ml.clustering import KMeans\n",
    "from pyspark.ml.evaluation import ClusteringEvaluator\n",
    "\n",
    "from pyspark.ml.feature import VectorAssembler\n",
    "\n",
    "import matplotlib.pyplot as plt\n",
    "import numpy as np\n",
    "import folium"
   ]
  },
  {
   "cell_type": "code",
   "execution_count": 2,
   "metadata": {},
   "outputs": [],
   "source": [
    "spark = SparkSession.builder.appName('pratical_work').getOrCreate()"
   ]
  },
  {
   "cell_type": "code",
   "execution_count": 3,
   "metadata": {},
   "outputs": [],
   "source": [
    "data = spark.read.parquet(\"hdfs:///user/ghra2016/cleaned_data\")"
   ]
  },
  {
   "cell_type": "code",
   "execution_count": 4,
   "metadata": {},
   "outputs": [
    {
     "name": "stdout",
     "output_type": "stream",
     "text": [
      "root\n",
      " |-- id_str: string (nullable = true)\n",
      " |-- text: string (nullable = true)\n",
      " |-- hashtags: string (nullable = true)\n",
      " |-- x: float (nullable = true)\n",
      " |-- y: float (nullable = true)\n",
      " |-- year: integer (nullable = true)\n",
      " |-- month: integer (nullable = true)\n",
      " |-- day: integer (nullable = true)\n",
      " |-- hour: integer (nullable = true)\n",
      "\n",
      "+------------------+--------------------+--------+---+---+----+-----+---+----+\n",
      "|            id_str|                text|hashtags|  x|  y|year|month|day|hour|\n",
      "+------------------+--------------------+--------+---+---+----+-----+---+----+\n",
      "|721527751338024960|To morrendo de so...|      []|NaN|NaN|2016|    4| 17|   2|\n",
      "+------------------+--------------------+--------+---+---+----+-----+---+----+\n",
      "only showing top 1 row\n",
      "\n"
     ]
    }
   ],
   "source": [
    "data.printSchema()\n",
    "data.show(1)"
   ]
  },
  {
   "cell_type": "code",
   "execution_count": 5,
   "metadata": {},
   "outputs": [],
   "source": [
    "remove_square_brackets = F.udf(lambda s: s[1:-1])"
   ]
  },
  {
   "cell_type": "code",
   "execution_count": 6,
   "metadata": {},
   "outputs": [],
   "source": [
    "data = data.withColumn(\"hashtags\", remove_square_brackets(data.hashtags))\n",
    "data = data.withColumn(\"hashtags\", F.lower(data.hashtags))\n",
    "data = data.withColumn(\"hashtags\", F.explode(F.split(\"hashtags\", ',')))\n",
    "data = data.withColumn(\"hashtags\", F.trim(data.hashtags))"
   ]
  },
  {
   "cell_type": "code",
   "execution_count": 7,
   "metadata": {},
   "outputs": [],
   "source": [
    "hashtags_frequencies = data.filter((data.hour == 2) & (data.hashtags != ''))\\\n",
    "                            .groupby(\"hashtags\")\\\n",
    "                            .agg(F.count('*').alias(\"frequency\"))\\\n",
    "                            .sort(\"frequency\", ascending=False)\\\n",
    "                            .collect()"
   ]
  },
  {
   "cell_type": "code",
   "execution_count": 8,
   "metadata": {},
   "outputs": [
    {
     "name": "stderr",
     "output_type": "stream",
     "text": [
      "/usr/local/lib/python3.6/site-packages/matplotlib/backends/backend_agg.py:211: RuntimeWarning: Glyph 48169 missing from current font.\n",
      "  font.set_text(s, 0.0, flags=flags)\n",
      "/usr/local/lib/python3.6/site-packages/matplotlib/backends/backend_agg.py:211: RuntimeWarning: Glyph 53444 missing from current font.\n",
      "  font.set_text(s, 0.0, flags=flags)\n",
      "/usr/local/lib/python3.6/site-packages/matplotlib/backends/backend_agg.py:211: RuntimeWarning: Glyph 49548 missing from current font.\n",
      "  font.set_text(s, 0.0, flags=flags)\n",
      "/usr/local/lib/python3.6/site-packages/matplotlib/backends/backend_agg.py:211: RuntimeWarning: Glyph 45380 missing from current font.\n",
      "  font.set_text(s, 0.0, flags=flags)\n",
      "/usr/local/lib/python3.6/site-packages/matplotlib/backends/backend_agg.py:211: RuntimeWarning: Glyph 45800 missing from current font.\n",
      "  font.set_text(s, 0.0, flags=flags)\n",
      "/usr/local/lib/python3.6/site-packages/matplotlib/backends/backend_agg.py:180: RuntimeWarning: Glyph 48169 missing from current font.\n",
      "  font.set_text(s, 0, flags=flags)\n",
      "/usr/local/lib/python3.6/site-packages/matplotlib/backends/backend_agg.py:180: RuntimeWarning: Glyph 53444 missing from current font.\n",
      "  font.set_text(s, 0, flags=flags)\n",
      "/usr/local/lib/python3.6/site-packages/matplotlib/backends/backend_agg.py:180: RuntimeWarning: Glyph 49548 missing from current font.\n",
      "  font.set_text(s, 0, flags=flags)\n",
      "/usr/local/lib/python3.6/site-packages/matplotlib/backends/backend_agg.py:180: RuntimeWarning: Glyph 45380 missing from current font.\n",
      "  font.set_text(s, 0, flags=flags)\n",
      "/usr/local/lib/python3.6/site-packages/matplotlib/backends/backend_agg.py:180: RuntimeWarning: Glyph 45800 missing from current font.\n",
      "  font.set_text(s, 0, flags=flags)\n"
     ]
    },
    {
     "data": {
      "image/png": "[encoded data removed]",
      "text/plain": [
       "<Figure size 432x288 with 1 Axes>"
      ]
     },
     "metadata": {
      "needs_background": "light"
     },
     "output_type": "display_data"
    }
   ],
   "source": [
    "hashtags = [item.hashtags for item in hashtags_frequencies[:15]]\n",
    "frequencies = [item.frequency for item in hashtags_frequencies[:15]]\n",
    "\n",
    "plt.bar(hashtags, frequencies)\n",
    "plt.xticks(rotation=\"vertical\")\n",
    "plt.show()"
   ]
  },
  {
   "cell_type": "code",
   "execution_count": null,
   "metadata": {},
   "outputs": [],
   "source": []
  },
  {
   "cell_type": "code",
   "execution_count": 18,
   "metadata": {},
   "outputs": [],
   "source": [
    "hashtags = hashtags[:10]\n",
    "most_freq_tags = data.select(\"hashtags\", \"month\", \"day\", \"hour\")\\\n",
    "                        .filter(data.hashtags.isin(hashtags))\\\n",
    "                        .groupby(\"hashtags\", \"month\", \"day\", \"hour\")\\\n",
    "                        .agg(F.count(\"*\").alias(\"freq\"))\\\n",
    "                        .sort(\"hashtags\", F.desc(\"freq\"), \"month\", \"day\", \"hour\")\\\n",
    "                        .collect()"
   ]
  },
  {
   "cell_type": "code",
   "execution_count": null,
   "metadata": {},
   "outputs": [],
   "source": []
  },
  {
   "cell_type": "code",
   "execution_count": 19,
   "metadata": {},
   "outputs": [],
   "source": [
    "most_freq = []\n",
    "prev_tag = ''\n",
    "\n",
    "for item in most_freq_tags:\n",
    "    if item.hashtags != prev_tag:\n",
    "        most_freq.append(item)\n",
    "        prev_tag = item.hashtags"
   ]
  },
  {
   "cell_type": "code",
   "execution_count": 26,
   "metadata": {},
   "outputs": [],
   "source": [
    "num_to_month = {1:\"Jan\", 2:\"Feb\", 3:\"Mar\", 4:\"Apr\", 5:\"May\", 6:\"Jun\", \n",
    "                7:\"Jul\", 8:\"Aug\", 9:\"Sep\", 10:\"Oct\", 11:\"Nov\", 12:\"Dec\"}"
   ]
  },
  {
   "cell_type": "code",
   "execution_count": 27,
   "metadata": {},
   "outputs": [
    {
     "data": {
      "image/png": "[encoded data removed]",
      "text/plain": [
       "<Figure size 432x288 with 1 Axes>"
      ]
     },
     "metadata": {
      "needs_background": "light"
     },
     "output_type": "display_data"
    }
   ],
   "source": [
    "x = [item.hashtags for item in most_freq]\n",
    "y = [\"{} {} at {} hrs\".format(num_to_month[item.month], item.day, item.hour) for item in most_freq]\n",
    "bubble_size = [item.freq for item in most_freq]\n",
    "bubble_size = np.array(bubble_size) / np.sum(bubble_size) * 5000\n",
    "    \n",
    "plt.scatter(x,y,s=bubble_size)\n",
    "plt.xticks(rotation=\"vertical\")\n",
    "plt.title(\"\")\n",
    "plt.show()"
   ]
  },
  {
   "cell_type": "code",
   "execution_count": null,
   "metadata": {},
   "outputs": [],
   "source": [
    "w_coordinates = data.select([\"hashtags\", \"x\", \"y\"]).na.drop()"
   ]
  },
  {
   "cell_type": "code",
   "execution_count": null,
   "metadata": {},
   "outputs": [],
   "source": [
    "w_coordinates.show(1)"
   ]
  },
  {
   "cell_type": "code",
   "execution_count": null,
   "metadata": {},
   "outputs": [],
   "source": [
    "clustering_input = w_coordinates.select([\"x\", \"y\"])"
   ]
  },
  {
   "cell_type": "code",
   "execution_count": null,
   "metadata": {},
   "outputs": [],
   "source": [
    "assembler = VectorAssembler(inputCols=[\"x\", \"y\"], outputCol='features')\n",
    "clustering_input = assembler.transform(clustering_input)"
   ]
  },
  {
   "cell_type": "code",
   "execution_count": null,
   "metadata": {},
   "outputs": [],
   "source": [
    "SEED = 1\n",
    "# k_list = range(3, 30)\n",
    "# distances = []\n",
    "# sillhouettes = []\n",
    "# for k in k_list:\n",
    "#     kmeans = KMeans().setK(k).setSeed(SEED)\n",
    "#     model = kmeans.fit(clustering_input)\n",
    "#     predictions = model.transform(clustering_input)\n",
    "    \n",
    "#     total_dist = model.computeCost(clustering_input)\n",
    "#     evaluator = ClusteringEvaluator()\n",
    "    \n",
    "#     distances.append(total_dist)\n",
    "#     sillhouettes.append(evaluator.evaluate(predictions))"
   ]
  },
  {
   "cell_type": "code",
   "execution_count": null,
   "metadata": {},
   "outputs": [],
   "source": [
    "# fig, (ax1, ax2) = plt.subplots(1, 2)\n",
    "\n",
    "# ax1.plot(k_list, distances)\n",
    "# ax1.set_title(\"Distance Sums with Different Ks\")\n",
    "\n",
    "# ax2.plot(k_list, sillhouettes)\n",
    "# ax2.set_title(\"Sillhouete with Different Ks\")\n",
    "\n",
    "# plt.show()"
   ]
  },
  {
   "cell_type": "code",
   "execution_count": null,
   "metadata": {},
   "outputs": [],
   "source": [
    "kmeans = KMeans().setK(20).setSeed(SEED)\n",
    "\n",
    "model = kmeans.fit(clustering_input)\n",
    "predictions = model.transform(clustering_input)\n",
    "\n",
    "centroids = model.clusterCenters()"
   ]
  },
  {
   "cell_type": "code",
   "execution_count": null,
   "metadata": {},
   "outputs": [],
   "source": [
    "w_coordinates = w_coordinates.withColumn(\"index\", F.monotonically_increasing_id())"
   ]
  },
  {
   "cell_type": "code",
   "execution_count": null,
   "metadata": {},
   "outputs": [],
   "source": [
    "predictions = predictions.select(\"prediction\").withColumn(\"index\", F.monotonically_increasing_id())"
   ]
  },
  {
   "cell_type": "code",
   "execution_count": null,
   "metadata": {},
   "outputs": [],
   "source": [
    "w_coordinates.show(1)\n",
    "predictions.show(1)"
   ]
  },
  {
   "cell_type": "code",
   "execution_count": null,
   "metadata": {},
   "outputs": [],
   "source": [
    "w_coordinates = w_coordinates.join(predictions, predictions.index==w_coordinates.index)\n",
    "w_coordinates = w_coordinates.drop(\"index\")"
   ]
  },
  {
   "cell_type": "code",
   "execution_count": null,
   "metadata": {},
   "outputs": [],
   "source": [
    "w_coordinates = w_coordinates.filter(w_coordinates.hashtags != '')"
   ]
  },
  {
   "cell_type": "code",
   "execution_count": null,
   "metadata": {},
   "outputs": [],
   "source": [
    "most_freq_cluster = w_coordinates.groupby(\"hashtags\", \"prediction\")\\\n",
    "                                    .agg(F.count('*').alias(\"count\"))\\\n",
    "                                    .sort(\"prediction\", F.desc(\"count\")).collect()"
   ]
  },
  {
   "cell_type": "code",
   "execution_count": null,
   "metadata": {},
   "outputs": [],
   "source": [
    "most_freq = []\n",
    "prev_class = -1\n",
    "for row in most_freq_cluster:\n",
    "    if row.prediction != prev_class:\n",
    "        most_freq.append(row)\n",
    "        prev_class = row.prediction"
   ]
  },
  {
   "cell_type": "code",
   "execution_count": null,
   "metadata": {},
   "outputs": [],
   "source": []
  },
  {
   "cell_type": "code",
   "execution_count": null,
   "metadata": {},
   "outputs": [],
   "source": [
    "sp = folium.Map(\n",
    "    location=[-25.441105, -49.276855],\n",
    "    zoom_start=3\n",
    ")\n",
    "\n",
    "hashtags = [item.hashtags for item in most_freq]\n",
    "lat = [item[0] for item in centroids]\n",
    "long = [item[1] for item in centroids]\n",
    "\n",
    "for _lat, _long, tag in zip(lat, long, hashtags):\n",
    "    folium.Marker(\n",
    "        popup=tag,\n",
    "        location=[_lat,_long]\n",
    "    ).add_to(sp)"
   ]
  },
  {
   "cell_type": "code",
   "execution_count": null,
   "metadata": {},
   "outputs": [],
   "source": [
    "sp"
   ]
  },
  {
   "cell_type": "code",
   "execution_count": null,
   "metadata": {},
   "outputs": [],
   "source": []
  },
  {
   "cell_type": "code",
   "execution_count": null,
   "metadata": {},
   "outputs": [],
   "source": []
  }
 ],
 "metadata": {
  "kernelspec": {
   "display_name": ".venv",
   "language": "python",
   "name": ".venv"
  },
  "language_info": {
   "codemirror_mode": {
    "name": "ipython",
    "version": 3
   },
   "file_extension": ".py",
   "mimetype": "text/x-python",
   "name": "python",
   "nbconvert_exporter": "python",
   "pygments_lexer": "ipython3",
   "version": "3.6.4"
  }
 },
 "nbformat": 4,
 "nbformat_minor": 2
}
