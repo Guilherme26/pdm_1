{
 "cells": [
  {
   "cell_type": "markdown",
   "metadata": {},
   "source": [
    "Reference https://developer.twitter.com/en/docs/tweets/data-dictionary/overview/tweet-object\n",
    "\n",
    "- if quoted, concatenate both texts - OK\n",
    "- quais as 10 hashtags que foram mais publicadas dentro de uma hora qualquer durante o período da coleta? Isto é, para cada hora, do minuto 00 até o minuto 59, conte quantas vezes cada hashtag aparece. Ao final, identifique quais as 10 hashtags diferentes, o dia/hora em que cada uma foi mais frequente e quantas vezes ela apareceu naquela hora."
   ]
  },
  {
   "cell_type": "code",
   "execution_count": 1,
   "metadata": {},
   "outputs": [],
   "source": [
    "from pyspark.sql import SparkSession\n",
    "from pyspark.sql import functions as F"
   ]
  },
  {
   "cell_type": "code",
   "execution_count": 2,
   "metadata": {},
   "outputs": [],
   "source": [
    "important_columns = [\"coordinates\", \"entities\", \"id_str\", \"created_at\",\n",
    "               \"is_quote_status\", \"quoted_status_id_str\", \"text\"]"
   ]
  },
  {
   "cell_type": "code",
   "execution_count": 3,
   "metadata": {},
   "outputs": [],
   "source": [
    "spark = SparkSession.builder.appName('pratical_work').getOrCreate()"
   ]
  },
  {
   "cell_type": "code",
   "execution_count": 4,
   "metadata": {},
   "outputs": [],
   "source": [
    "data = spark.read.json(\"hdfs:///datasets/geo_curitiba\")"
   ]
  },
  {
   "cell_type": "code",
   "execution_count": 5,
   "metadata": {},
   "outputs": [],
   "source": [
    "data = data.select(important_columns)"
   ]
  },
  {
   "cell_type": "code",
   "execution_count": 6,
   "metadata": {},
   "outputs": [
    {
     "name": "stdout",
     "output_type": "stream",
     "text": [
      "+-----------+-----------------+------------------+---------------+---------------+--------------------+--------------------+\n",
      "|coordinates|         entities|            id_str|     created_at|is_quote_status|quoted_status_id_str|                text|\n",
      "+-----------+-----------------+------------------+---------------+---------------+--------------------+--------------------+\n",
      "|       null|[[],, [], [], []]|726561770303840256|[1462060799000]|          false|                null|Olha o universo j...|\n",
      "+-----------+-----------------+------------------+---------------+---------------+--------------------+--------------------+\n",
      "only showing top 1 row\n",
      "\n",
      "+-----------+-----------------+------------------+---------------+---------------+--------------------+--------------------+\n",
      "|coordinates|         entities|            id_str|     created_at|is_quote_status|quoted_status_id_str|                text|\n",
      "+-----------+-----------------+------------------+---------------+---------------+--------------------+--------------------+\n",
      "|       null|[[],, [], [], []]|726561770303840256|[1462060799000]|          false|                null|Olha o universo j...|\n",
      "+-----------+-----------------+------------------+---------------+---------------+--------------------+--------------------+\n",
      "only showing top 1 row\n",
      "\n"
     ]
    }
   ],
   "source": [
    "data.show(1)"
   ]
  },
  {
   "cell_type": "code",
   "execution_count": 7,
   "metadata": {},
   "outputs": [],
   "source": [
    "map_data = data.select([\"quoted_status_id_str\", \"text\"])\\\n",
    "                .where(F.col(\"quoted_status_id_str\").isNotNull()).collect()\n",
    "map_dict = dict(map(list, map_data))"
   ]
  },
  {
   "cell_type": "code",
   "execution_count": 8,
   "metadata": {},
   "outputs": [],
   "source": [
    "map_func = F.udf(lambda key: map_dict.get(key, \"\"))"
   ]
  },
  {
   "cell_type": "code",
   "execution_count": 9,
   "metadata": {},
   "outputs": [],
   "source": [
    "data = data.withColumn(\"quoted_text\", map_func(data.quoted_status_id_str))"
   ]
  },
  {
   "cell_type": "code",
   "execution_count": 10,
   "metadata": {},
   "outputs": [
    {
     "name": "stdout",
     "output_type": "stream",
     "text": [
      "+-----------+-----------------+------------------+---------------+---------------+--------------------+--------------------+-----------+\n",
      "|coordinates|         entities|            id_str|     created_at|is_quote_status|quoted_status_id_str|                text|quoted_text|\n",
      "+-----------+-----------------+------------------+---------------+---------------+--------------------+--------------------+-----------+\n",
      "|       null|[[],, [], [], []]|726561770303840256|[1462060799000]|          false|                null|Olha o universo j...|           |\n",
      "+-----------+-----------------+------------------+---------------+---------------+--------------------+--------------------+-----------+\n",
      "only showing top 1 row\n",
      "\n",
      "+-----------+-----------------+------------------+---------------+---------------+--------------------+--------------------+-----------+\n",
      "|coordinates|         entities|            id_str|     created_at|is_quote_status|quoted_status_id_str|                text|quoted_text|\n",
      "+-----------+-----------------+------------------+---------------+---------------+--------------------+--------------------+-----------+\n",
      "|       null|[[],, [], [], []]|726561770303840256|[1462060799000]|          false|                null|Olha o universo j...|           |\n",
      "+-----------+-----------------+------------------+---------------+---------------+--------------------+--------------------+-----------+\n",
      "only showing top 1 row\n",
      "\n"
     ]
    }
   ],
   "source": [
    "data.show(1)"
   ]
  },
  {
   "cell_type": "code",
   "execution_count": 11,
   "metadata": {},
   "outputs": [],
   "source": [
    "data = data.withColumn(\"text\", F.when(data.is_quote_status == True, \\\n",
    "                                        F.concat(F.col(\"text\"), F.lit(\" \"), F.col(\"quoted_text\")))\\\n",
    "                                .otherwise(data.text))"
   ]
  },
  {
   "cell_type": "code",
   "execution_count": 12,
   "metadata": {},
   "outputs": [
    {
     "name": "stdout",
     "output_type": "stream",
     "text": [
      "+-----------+-----------------+------------------+---------------+---------------+--------------------+--------------------+-----------+\n",
      "|coordinates|         entities|            id_str|     created_at|is_quote_status|quoted_status_id_str|                text|quoted_text|\n",
      "+-----------+-----------------+------------------+---------------+---------------+--------------------+--------------------+-----------+\n",
      "|       null|[[],, [], [], []]|726561770303840256|[1462060799000]|          false|                null|Olha o universo j...|           |\n",
      "+-----------+-----------------+------------------+---------------+---------------+--------------------+--------------------+-----------+\n",
      "only showing top 1 row\n",
      "\n",
      "+-----------+-----------------+------------------+---------------+---------------+--------------------+--------------------+-----------+\n",
      "|coordinates|         entities|            id_str|     created_at|is_quote_status|quoted_status_id_str|                text|quoted_text|\n",
      "+-----------+-----------------+------------------+---------------+---------------+--------------------+--------------------+-----------+\n",
      "|       null|[[],, [], [], []]|726561770303840256|[1462060799000]|          false|                null|Olha o universo j...|           |\n",
      "+-----------+-----------------+------------------+---------------+---------------+--------------------+--------------------+-----------+\n",
      "only showing top 1 row\n",
      "\n"
     ]
    }
   ],
   "source": [
    "data.show(1)"
   ]
  },
  {
   "cell_type": "code",
   "execution_count": 13,
   "metadata": {},
   "outputs": [],
   "source": [
    "data = data.withColumn(\"hashtags\", data.entities.hashtags)"
   ]
  },
  {
   "cell_type": "code",
   "execution_count": 14,
   "metadata": {},
   "outputs": [],
   "source": [
    "important_columns = [\"coordinates\", \"id_str\", \"text\", \"hashtags\", \"created_at\"]"
   ]
  },
  {
   "cell_type": "code",
   "execution_count": 15,
   "metadata": {},
   "outputs": [],
   "source": [
    "data = data.select(important_columns)"
   ]
  },
  {
   "cell_type": "code",
   "execution_count": 16,
   "metadata": {},
   "outputs": [
    {
     "name": "stdout",
     "output_type": "stream",
     "text": [
      "+-----------+------------------+--------------------+--------+---------------+\n",
      "|coordinates|            id_str|                text|hashtags|     created_at|\n",
      "+-----------+------------------+--------------------+--------+---------------+\n",
      "|       null|726561770303840256|Olha o universo j...|      []|[1462060799000]|\n",
      "+-----------+------------------+--------------------+--------+---------------+\n",
      "only showing top 1 row\n",
      "\n",
      "+-----------+------------------+--------------------+--------+---------------+\n",
      "|coordinates|            id_str|                text|hashtags|     created_at|\n",
      "+-----------+------------------+--------------------+--------+---------------+\n",
      "|       null|726561770303840256|Olha o universo j...|      []|[1462060799000]|\n",
      "+-----------+------------------+--------------------+--------+---------------+\n",
      "only showing top 1 row\n",
      "\n"
     ]
    }
   ],
   "source": [
    "data.show(1)"
   ]
  },
  {
   "cell_type": "code",
   "execution_count": 17,
   "metadata": {},
   "outputs": [],
   "source": [
    "data.write.parquet(\"hdfs:///user/ghra2016/cleaned_data\")"
   ]
  }
 ],
 "metadata": {
  "kernelspec": {
   "display_name": "Python 3",
   "language": "python",
   "name": "python3"
  },
  "language_info": {
   "codemirror_mode": {
    "name": "ipython",
    "version": 3
   },
   "file_extension": ".py",
   "mimetype": "text/x-python",
   "name": "python",
   "nbconvert_exporter": "python",
   "pygments_lexer": "ipython3",
   "version": "3.6.4"
  }
 },
 "nbformat": 4,
 "nbformat_minor": 2
}
