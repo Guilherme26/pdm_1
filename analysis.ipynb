{
 "cells": [
  {
   "cell_type": "markdown",
   "metadata": {},
   "source": [
    "Reference https://developer.twitter.com/en/docs/tweets/data-dictionary/overview/tweet-object\n",
    "- quais as 10 hashtags que foram mais publicadas dentro de uma hora qualquer durante o período da coleta? Isto é, para cada hora, do minuto 00 até o minuto 59, conte quantas vezes cada hashtag aparece. Ao final, identifique quais as 10 hashtags diferentes, o dia/hora em que cada uma foi mais frequente e quantas vezes ela apareceu naquela hora."
   ]
  },
  {
   "cell_type": "code",
   "execution_count": 1,
   "metadata": {},
   "outputs": [],
   "source": [
    "from pyspark.sql import SparkSession\n",
    "from pyspark.sql import functions as F\n",
    "\n",
    "from pyspark.ml.clustering import KMeans\n",
    "from pyspark.ml.evaluation import ClusteringEvaluator\n",
    "\n",
    "from pyspark.ml.feature import VectorAssembler\n",
    "\n",
    "import matplotlib.pyplot as plt\n",
    "import folium"
   ]
  },
  {
   "cell_type": "code",
   "execution_count": 2,
   "metadata": {},
   "outputs": [],
   "source": [
    "spark = SparkSession.builder.appName('pratical_work').getOrCreate()"
   ]
  },
  {
   "cell_type": "code",
   "execution_count": 3,
   "metadata": {},
   "outputs": [],
   "source": [
    "data = spark.read.parquet(\"hdfs:///user/ghra2016/cleaned_data\")"
   ]
  },
  {
   "cell_type": "code",
   "execution_count": 4,
   "metadata": {},
   "outputs": [
    {
     "name": "stdout",
     "output_type": "stream",
     "text": [
      "root\n",
      " |-- id_str: string (nullable = true)\n",
      " |-- text: string (nullable = true)\n",
      " |-- hashtags: string (nullable = true)\n",
      " |-- x: float (nullable = true)\n",
      " |-- y: float (nullable = true)\n",
      " |-- year: integer (nullable = true)\n",
      " |-- month: integer (nullable = true)\n",
      " |-- day: integer (nullable = true)\n",
      " |-- hour: integer (nullable = true)\n",
      "\n",
      "+------------------+--------------------+--------+---+---+----+-----+---+----+\n",
      "|            id_str|                text|hashtags|  x|  y|year|month|day|hour|\n",
      "+------------------+--------------------+--------+---+---+----+-----+---+----+\n",
      "|721527751338024960|To morrendo de so...|      []|NaN|NaN|2016|    4| 17|   2|\n",
      "+------------------+--------------------+--------+---+---+----+-----+---+----+\n",
      "only showing top 1 row\n",
      "\n"
     ]
    }
   ],
   "source": [
    "data.printSchema()\n",
    "data.show(1)"
   ]
  },
  {
   "cell_type": "code",
   "execution_count": 5,
   "metadata": {},
   "outputs": [],
   "source": [
    "remove_square_brackets = F.udf(lambda s: s[1:-1])"
   ]
  },
  {
   "cell_type": "code",
   "execution_count": 6,
   "metadata": {},
   "outputs": [],
   "source": [
    "data = data.withColumn(\"hashtags\", remove_square_brackets(data.hashtags))\n",
    "data = data.withColumn(\"hashtags\", F.lower(data.hashtags))\n",
    "data = data.withColumn(\"hashtags\", F.explode(F.split(\"hashtags\", ',')))\n",
    "data = data.withColumn(\"hashtags\", F.trim(data.hashtags))"
   ]
  },
  {
   "cell_type": "code",
   "execution_count": 7,
   "metadata": {},
   "outputs": [],
   "source": [
    "hashtags_frequencies = data.filter((data.hour == 2) & (data.hashtags != ''))\\\n",
    "                            .groupby(\"hashtags\")\\\n",
    "                            .agg(F.count('*').alias(\"frequency\"))\\\n",
    "                            .sort(\"frequency\", ascending=False)\\\n",
    "                            .collect()"
   ]
  },
  {
   "cell_type": "code",
   "execution_count": 8,
   "metadata": {},
   "outputs": [
    {
     "name": "stderr",
     "output_type": "stream",
     "text": [
      "/usr/local/lib/python3.6/site-packages/matplotlib/backends/backend_agg.py:211: RuntimeWarning: Glyph 48169 missing from current font.\n",
      "  font.set_text(s, 0.0, flags=flags)\n",
      "/usr/local/lib/python3.6/site-packages/matplotlib/backends/backend_agg.py:211: RuntimeWarning: Glyph 53444 missing from current font.\n",
      "  font.set_text(s, 0.0, flags=flags)\n",
      "/usr/local/lib/python3.6/site-packages/matplotlib/backends/backend_agg.py:211: RuntimeWarning: Glyph 49548 missing from current font.\n",
      "  font.set_text(s, 0.0, flags=flags)\n",
      "/usr/local/lib/python3.6/site-packages/matplotlib/backends/backend_agg.py:211: RuntimeWarning: Glyph 45380 missing from current font.\n",
      "  font.set_text(s, 0.0, flags=flags)\n",
      "/usr/local/lib/python3.6/site-packages/matplotlib/backends/backend_agg.py:211: RuntimeWarning: Glyph 45800 missing from current font.\n",
      "  font.set_text(s, 0.0, flags=flags)\n",
      "/usr/local/lib/python3.6/site-packages/matplotlib/backends/backend_agg.py:180: RuntimeWarning: Glyph 48169 missing from current font.\n",
      "  font.set_text(s, 0, flags=flags)\n",
      "/usr/local/lib/python3.6/site-packages/matplotlib/backends/backend_agg.py:180: RuntimeWarning: Glyph 53444 missing from current font.\n",
      "  font.set_text(s, 0, flags=flags)\n",
      "/usr/local/lib/python3.6/site-packages/matplotlib/backends/backend_agg.py:180: RuntimeWarning: Glyph 49548 missing from current font.\n",
      "  font.set_text(s, 0, flags=flags)\n",
      "/usr/local/lib/python3.6/site-packages/matplotlib/backends/backend_agg.py:180: RuntimeWarning: Glyph 45380 missing from current font.\n",
      "  font.set_text(s, 0, flags=flags)\n",
      "/usr/local/lib/python3.6/site-packages/matplotlib/backends/backend_agg.py:180: RuntimeWarning: Glyph 45800 missing from current font.\n",
      "  font.set_text(s, 0, flags=flags)\n"
     ]
    },
    {
     "data": {
      "image/png": "[encoded data removed]",
      "text/plain": [
       "<Figure size 432x288 with 1 Axes>"
      ]
     },
     "metadata": {
      "needs_background": "light"
     },
     "output_type": "display_data"
    }
   ],
   "source": [
    "hashtags = [item.hashtags for item in hashtags_frequencies[:15]]\n",
    "frequencies = [item.frequency for item in hashtags_frequencies[:15]]\n",
    "\n",
    "plt.bar(hashtags, frequencies)\n",
    "plt.xticks(rotation=\"vertical\")\n",
    "plt.show()"
   ]
  },
  {
   "cell_type": "code",
   "execution_count": null,
   "metadata": {},
   "outputs": [],
   "source": []
  },
  {
   "cell_type": "code",
   "execution_count": 9,
   "metadata": {},
   "outputs": [],
   "source": [
    "w_coordinates = data.select([\"hashtags\", \"x\", \"y\"]).na.drop()"
   ]
  },
  {
   "cell_type": "code",
   "execution_count": 10,
   "metadata": {},
   "outputs": [
    {
     "name": "stdout",
     "output_type": "stream",
     "text": [
      "+--------+--------+----------+\n",
      "|hashtags|       x|         y|\n",
      "+--------+--------+----------+\n",
      "|elekfans|-49.2776|-25.384666|\n",
      "+--------+--------+----------+\n",
      "only showing top 1 row\n",
      "\n"
     ]
    }
   ],
   "source": [
    "w_coordinates.show(1)"
   ]
  },
  {
   "cell_type": "code",
   "execution_count": null,
   "metadata": {},
   "outputs": [],
   "source": []
  },
  {
   "cell_type": "code",
   "execution_count": null,
   "metadata": {},
   "outputs": [],
   "source": []
  },
  {
   "cell_type": "code",
   "execution_count": 11,
   "metadata": {},
   "outputs": [],
   "source": [
    "clustering_input = w_coordinates.select([\"x\", \"y\"])"
   ]
  },
  {
   "cell_type": "code",
   "execution_count": 12,
   "metadata": {},
   "outputs": [],
   "source": [
    "assembler = VectorAssembler(inputCols=[\"x\", \"y\"], outputCol='features')\n",
    "clustering_input = assembler.transform(clustering_input)"
   ]
  },
  {
   "cell_type": "code",
   "execution_count": null,
   "metadata": {},
   "outputs": [],
   "source": []
  },
  {
   "cell_type": "code",
   "execution_count": 13,
   "metadata": {},
   "outputs": [],
   "source": [
    "SEED = 1\n",
    "# k_list = range(3, 30)\n",
    "# distances = []\n",
    "# sillhouettes = []\n",
    "# for k in k_list:\n",
    "#     kmeans = KMeans().setK(k).setSeed(SEED)\n",
    "#     model = kmeans.fit(clustering_input)\n",
    "#     predictions = model.transform(clustering_input)\n",
    "    \n",
    "#     total_dist = model.computeCost(clustering_input)\n",
    "#     evaluator = ClusteringEvaluator()\n",
    "    \n",
    "#     distances.append(total_dist)\n",
    "#     sillhouettes.append(evaluator.evaluate(predictions))"
   ]
  },
  {
   "cell_type": "code",
   "execution_count": 14,
   "metadata": {},
   "outputs": [],
   "source": [
    "# fig, (ax1, ax2) = plt.subplots(1, 2)\n",
    "\n",
    "# ax1.plot(k_list, distances)\n",
    "# ax1.set_title(\"Distance Sums with Different Ks\")\n",
    "\n",
    "# ax2.plot(k_list, sillhouettes)\n",
    "# ax2.set_title(\"Sillhouete with Different Ks\")\n",
    "\n",
    "# plt.show()"
   ]
  },
  {
   "cell_type": "code",
   "execution_count": 15,
   "metadata": {},
   "outputs": [],
   "source": [
    "kmeans = KMeans().setK(20).setSeed(SEED)\n",
    "\n",
    "model = kmeans.fit(clustering_input)\n",
    "predictions = model.transform(clustering_input)\n",
    "\n",
    "centroids = model.clusterCenters()"
   ]
  },
  {
   "cell_type": "code",
   "execution_count": 16,
   "metadata": {},
   "outputs": [],
   "source": [
    "w_coordinates = w_coordinates.withColumn(\"index\", F.monotonically_increasing_id())"
   ]
  },
  {
   "cell_type": "code",
   "execution_count": 17,
   "metadata": {},
   "outputs": [],
   "source": [
    "predictions = predictions.select(\"prediction\").withColumn(\"index\", F.monotonically_increasing_id())"
   ]
  },
  {
   "cell_type": "code",
   "execution_count": 18,
   "metadata": {},
   "outputs": [
    {
     "name": "stdout",
     "output_type": "stream",
     "text": [
      "+--------+--------+----------+-----+\n",
      "|hashtags|       x|         y|index|\n",
      "+--------+--------+----------+-----+\n",
      "|elekfans|-49.2776|-25.384666|    0|\n",
      "+--------+--------+----------+-----+\n",
      "only showing top 1 row\n",
      "\n",
      "+----------+-----+\n",
      "|prediction|index|\n",
      "+----------+-----+\n",
      "|         0|    0|\n",
      "+----------+-----+\n",
      "only showing top 1 row\n",
      "\n"
     ]
    }
   ],
   "source": [
    "w_coordinates.show(1)\n",
    "predictions.show(1)"
   ]
  },
  {
   "cell_type": "code",
   "execution_count": 19,
   "metadata": {},
   "outputs": [],
   "source": [
    "w_coordinates = w_coordinates.join(predictions, predictions.index==w_coordinates.index)\n",
    "w_coordinates = w_coordinates.drop(\"index\")"
   ]
  },
  {
   "cell_type": "code",
   "execution_count": 20,
   "metadata": {},
   "outputs": [],
   "source": [
    "w_coordinates = w_coordinates.filter(w_coordinates.hashtags != '')"
   ]
  },
  {
   "cell_type": "code",
   "execution_count": 21,
   "metadata": {},
   "outputs": [],
   "source": [
    "most_freq_cluster = w_coordinates.groupby(\"hashtags\", \"prediction\")\\\n",
    "                                    .agg(F.count('*').alias(\"count\"))\\\n",
    "                                    .sort(\"prediction\", F.desc(\"count\")).collect()"
   ]
  },
  {
   "cell_type": "code",
   "execution_count": 22,
   "metadata": {},
   "outputs": [],
   "source": [
    "most_freq = []\n",
    "prev_class = -1\n",
    "for row in most_freq_cluster:\n",
    "    if row.prediction != prev_class:\n",
    "        most_freq.append(row)\n",
    "        prev_class = row.prediction"
   ]
  },
  {
   "cell_type": "code",
   "execution_count": null,
   "metadata": {},
   "outputs": [],
   "source": []
  },
  {
   "cell_type": "code",
   "execution_count": 33,
   "metadata": {},
   "outputs": [],
   "source": [
    "sp = folium.Map(\n",
    "    location=[-25.441105, -49.276855],\n",
    "    zoom_start=3\n",
    ")\n",
    "\n",
    "hashtags = [item.hashtags for item in most_freq]\n",
    "lat = [item[0] for item in centroids]\n",
    "long = [item[1] for item in centroids]\n",
    "\n",
    "for _lat, _long, tag in zip(lat, long, hashtags):\n",
    "    folium.Marker(\n",
    "        popup=tag,\n",
    "        location=[_lat,_long]\n",
    "    ).add_to(sp)"
   ]
  },
  {
   "cell_type": "code",
   "execution_count": 34,
   "metadata": {},
   "outputs": [
    {
     "data": {
      "text/html": [
       "<div style=\"width:100%;\"><div style=\"position:relative;width:100%;height:0;padding-bottom:60%;\"><iframe src=\"data:text/html;charset=utf-8;base64,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\" style=\"position:absolute;width:100%;height:100%;left:0;top:0;border:none !important;\" allowfullscreen webkitallowfullscreen mozallowfullscreen></iframe></div></div>"
      ],
      "text/plain": [
       "<folium.folium.Map at 0x7fc84754cb38>"
      ]
     },
     "execution_count": 34,
     "metadata": {},
     "output_type": "execute_result"
    }
   ],
   "source": [
    "sp"
   ]
  },
  {
   "cell_type": "code",
   "execution_count": null,
   "metadata": {},
   "outputs": [],
   "source": []
  }
 ],
 "metadata": {
  "kernelspec": {
   "display_name": "Python 3",
   "language": "python",
   "name": "python3"
  },
  "language_info": {
   "codemirror_mode": {
    "name": "ipython",
    "version": 3
   },
   "file_extension": ".py",
   "mimetype": "text/x-python",
   "name": "python",
   "nbconvert_exporter": "python",
   "pygments_lexer": "ipython3",
   "version": "3.6.4"
  }
 },
 "nbformat": 4,
 "nbformat_minor": 2
}
