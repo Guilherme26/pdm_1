{
 "cells": [
  {
   "cell_type": "code",
   "execution_count": 1,
   "metadata": {},
   "outputs": [],
   "source": [
    "from pyspark.sql import SparkSession\n",
    "from pyspark.sql import functions as F\n",
    "\n",
    "from pyspark.sql.types import FloatType, TimestampType\n",
    "from datetime import datetime"
   ]
  },
  {
   "cell_type": "code",
   "execution_count": 2,
   "metadata": {},
   "outputs": [],
   "source": [
    "spark = SparkSession.builder.appName('pratical_work').getOrCreate()"
   ]
  },
  {
   "cell_type": "code",
   "execution_count": 3,
   "metadata": {},
   "outputs": [],
   "source": [
    "data = spark.read.json(\"hdfs:///datasets/geo_curitiba\")"
   ]
  },
  {
   "cell_type": "code",
   "execution_count": 4,
   "metadata": {},
   "outputs": [],
   "source": [
    "important_columns = [\"coordinates\", \"entities\", \"id_str\", \"created_at\", \n",
    "                         \"is_quote_status\", \"quoted_status_id_str\", \"text\"]\n",
    "\n",
    "data = data.select(important_columns)"
   ]
  },
  {
   "cell_type": "code",
   "execution_count": 5,
   "metadata": {},
   "outputs": [],
   "source": [
    "map_data = data.select([\"quoted_status_id_str\", \"text\"])\\\n",
    "                .where(F.col(\"quoted_status_id_str\").isNotNull()).collect()\n",
    "map_dict = dict(map(list, map_data))"
   ]
  },
  {
   "cell_type": "code",
   "execution_count": 6,
   "metadata": {},
   "outputs": [],
   "source": [
    "map_func = F.udf(lambda key: map_dict.get(key, \"\"))\n",
    "list_to_item = F.udf(lambda item: item[0])\n",
    "\n",
    "get_tags = F.udf(lambda tags: [item[1] for item in tags])\n",
    "\n",
    "get_x = F.udf(lambda item: item[0][0] if item else float('nan'))\n",
    "get_y = F.udf(lambda item: item[0][1] if item else float('nan'))\n",
    "get_timestamp = lambda item: datetime.fromtimestamp(int(item)/1000)\n",
    "\n",
    "convert_timestamp_udf = F.udf(lambda item: get_timestamp(item), TimestampType())"
   ]
  },
  {
   "cell_type": "code",
   "execution_count": 7,
   "metadata": {},
   "outputs": [],
   "source": [
    "important_columns = [\"coordinates\", \"id_str\", \"text\", \"hashtags\", \"created_at\"]\n",
    "\n",
    "data = data.withColumn(\"quoted_text\", map_func(data.quoted_status_id_str))\n",
    "data = data.withColumn(\"text\", F.when(data.is_quote_status == True, \\\n",
    "                                        F.concat(F.col(\"text\"), F.lit(\" \"), F.col(\"quoted_text\")))\\\n",
    "                                .otherwise(data.text))\n",
    "\n",
    "data = data.withColumn(\"created_at\", list_to_item(data.created_at))\n",
    "data = data.withColumn(\"hashtags\", data.entities.hashtags)\n",
    "data = data.select(important_columns)"
   ]
  },
  {
   "cell_type": "code",
   "execution_count": 8,
   "metadata": {},
   "outputs": [
    {
     "name": "stdout",
     "output_type": "stream",
     "text": [
      "+-----------+------------------+--------------------+--------+-------------+\n",
      "|coordinates|            id_str|                text|hashtags|   created_at|\n",
      "+-----------+------------------+--------------------+--------+-------------+\n",
      "|       null|726561770303840256|Olha o universo j...|      []|1462060799000|\n",
      "+-----------+------------------+--------------------+--------+-------------+\n",
      "only showing top 1 row\n",
      "\n"
     ]
    }
   ],
   "source": [
    "data.show(1)"
   ]
  },
  {
   "cell_type": "code",
   "execution_count": 9,
   "metadata": {},
   "outputs": [],
   "source": [
    "data = data.withColumn(\"created_at\", convert_timestamp_udf(data.created_at))"
   ]
  },
  {
   "cell_type": "code",
   "execution_count": 10,
   "metadata": {},
   "outputs": [],
   "source": [
    "data = data.withColumn(\"x\", get_x(data.coordinates).cast(FloatType()))\n",
    "data = data.withColumn(\"y\", get_y(data.coordinates).cast(FloatType()))"
   ]
  },
  {
   "cell_type": "code",
   "execution_count": 11,
   "metadata": {},
   "outputs": [
    {
     "name": "stdout",
     "output_type": "stream",
     "text": [
      "+-----------+------------------+--------------------+--------+-------------------+---+---+\n",
      "|coordinates|            id_str|                text|hashtags|         created_at|  x|  y|\n",
      "+-----------+------------------+--------------------+--------+-------------------+---+---+\n",
      "|       null|726561770303840256|Olha o universo j...|      []|2016-04-30 23:59:59|NaN|NaN|\n",
      "+-----------+------------------+--------------------+--------+-------------------+---+---+\n",
      "only showing top 1 row\n",
      "\n"
     ]
    }
   ],
   "source": [
    "data.show(1)"
   ]
  },
  {
   "cell_type": "code",
   "execution_count": 12,
   "metadata": {},
   "outputs": [],
   "source": [
    "data = data.withColumn(\"hashtags\", get_tags(data.hashtags))"
   ]
  },
  {
   "cell_type": "code",
   "execution_count": 13,
   "metadata": {},
   "outputs": [],
   "source": [
    "data = data.withColumn(\"year\", F.year(data.created_at))\n",
    "data = data.withColumn(\"month\", F.month(data.created_at))\n",
    "data = data.withColumn(\"day\", F.dayofmonth(data.created_at))\n",
    "data = data.withColumn(\"hour\", F.hour(data.created_at))"
   ]
  },
  {
   "cell_type": "code",
   "execution_count": 14,
   "metadata": {},
   "outputs": [],
   "source": [
    "data = data.drop(\"coordinates\", \"created_at\")"
   ]
  },
  {
   "cell_type": "code",
   "execution_count": 15,
   "metadata": {},
   "outputs": [
    {
     "name": "stdout",
     "output_type": "stream",
     "text": [
      "+------------------+--------------------+--------+---+---+----+-----+---+----+\n",
      "|            id_str|                text|hashtags|  x|  y|year|month|day|hour|\n",
      "+------------------+--------------------+--------+---+---+----+-----+---+----+\n",
      "|726561770303840256|Olha o universo j...|      []|NaN|NaN|2016|    4| 30|  23|\n",
      "+------------------+--------------------+--------+---+---+----+-----+---+----+\n",
      "only showing top 1 row\n",
      "\n"
     ]
    }
   ],
   "source": [
    "data.show(1)"
   ]
  },
  {
   "cell_type": "code",
   "execution_count": 16,
   "metadata": {},
   "outputs": [
    {
     "name": "stdout",
     "output_type": "stream",
     "text": [
      "root\n",
      " |-- id_str: string (nullable = true)\n",
      " |-- text: string (nullable = true)\n",
      " |-- hashtags: string (nullable = true)\n",
      " |-- x: float (nullable = true)\n",
      " |-- y: float (nullable = true)\n",
      " |-- year: integer (nullable = true)\n",
      " |-- month: integer (nullable = true)\n",
      " |-- day: integer (nullable = true)\n",
      " |-- hour: integer (nullable = true)\n",
      "\n"
     ]
    }
   ],
   "source": [
    "data.printSchema()"
   ]
  },
  {
   "cell_type": "code",
   "execution_count": 17,
   "metadata": {},
   "outputs": [],
   "source": [
    "data.write.parquet(\"hdfs:///user/ghra2016/cleaned_data\")"
   ]
  },
  {
   "cell_type": "code",
   "execution_count": null,
   "metadata": {},
   "outputs": [],
   "source": []
  }
 ],
 "metadata": {
  "kernelspec": {
   "display_name": "Python 3",
   "language": "python",
   "name": "python3"
  },
  "language_info": {
   "codemirror_mode": {
    "name": "ipython",
    "version": 3
   },
   "file_extension": ".py",
   "mimetype": "text/x-python",
   "name": "python",
   "nbconvert_exporter": "python",
   "pygments_lexer": "ipython3",
   "version": "3.6.4"
  }
 },
 "nbformat": 4,
 "nbformat_minor": 2
}
