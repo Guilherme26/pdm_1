{
 "cells": [
  {
   "cell_type": "markdown",
   "metadata": {},
   "source": [
    "Reference https://developer.twitter.com/en/docs/tweets/data-dictionary/overview/tweet-object\n",
    "- quais as 10 hashtags que foram mais publicadas dentro de uma hora qualquer durante o período da coleta? Isto é, para cada hora, do minuto 00 até o minuto 59, conte quantas vezes cada hashtag aparece. Ao final, identifique quais as 10 hashtags diferentes, o dia/hora em que cada uma foi mais frequente e quantas vezes ela apareceu naquela hora."
   ]
  },
  {
   "cell_type": "code",
   "execution_count": 32,
   "metadata": {},
   "outputs": [],
   "source": [
    "from pyspark.sql import SparkSession\n",
    "from pyspark.sql import functions as F\n",
    "\n",
    "from pyspark.ml.clustering import KMeans\n",
    "from pyspark.ml.evaluation import ClusteringEvaluator\n",
    "\n",
    "from pyspark.ml.feature import VectorAssembler\n",
    "\n",
    "import matplotlib.pyplot as plt"
   ]
  },
  {
   "cell_type": "code",
   "execution_count": 33,
   "metadata": {},
   "outputs": [],
   "source": [
    "spark = SparkSession.builder.appName('pratical_work').getOrCreate()"
   ]
  },
  {
   "cell_type": "code",
   "execution_count": 34,
   "metadata": {},
   "outputs": [],
   "source": [
    "data = spark.read.parquet(\"hdfs:///user/ghra2016/cleaned_data\")"
   ]
  },
  {
   "cell_type": "code",
   "execution_count": 35,
   "metadata": {},
   "outputs": [
    {
     "name": "stdout",
     "output_type": "stream",
     "text": [
      "root\n",
      " |-- id_str: string (nullable = true)\n",
      " |-- text: string (nullable = true)\n",
      " |-- hashtags: array (nullable = true)\n",
      " |    |-- element: struct (containsNull = true)\n",
      " |    |    |-- indices: array (nullable = true)\n",
      " |    |    |    |-- element: long (containsNull = true)\n",
      " |    |    |-- text: string (nullable = true)\n",
      " |-- created_at: timestamp (nullable = true)\n",
      " |-- x: float (nullable = true)\n",
      " |-- y: float (nullable = true)\n",
      "\n"
     ]
    }
   ],
   "source": [
    "data.printSchema()"
   ]
  },
  {
   "cell_type": "code",
   "execution_count": 36,
   "metadata": {},
   "outputs": [
    {
     "name": "stdout",
     "output_type": "stream",
     "text": [
      "+------------------+--------------------+--------+-------------------+---+---+\n",
      "|            id_str|                text|hashtags|         created_at|  x|  y|\n",
      "+------------------+--------------------+--------+-------------------+---+---+\n",
      "|721527751338024960|To morrendo de so...|      []|2016-04-17 02:36:35|NaN|NaN|\n",
      "+------------------+--------------------+--------+-------------------+---+---+\n",
      "only showing top 1 row\n",
      "\n"
     ]
    }
   ],
   "source": [
    "data.show(1)"
   ]
  },
  {
   "cell_type": "code",
   "execution_count": 37,
   "metadata": {},
   "outputs": [],
   "source": [
    "w_coordinates = data.select([\"hashtags\", \"x\", \"y\"]).na.drop()"
   ]
  },
  {
   "cell_type": "code",
   "execution_count": 38,
   "metadata": {},
   "outputs": [
    {
     "name": "stdout",
     "output_type": "stream",
     "text": [
      "+--------------------+--------+----------+\n",
      "|            hashtags|       x|         y|\n",
      "+--------------------+--------+----------+\n",
      "|[[[24, 33], elekf...|-49.2776|-25.384666|\n",
      "+--------------------+--------+----------+\n",
      "only showing top 1 row\n",
      "\n"
     ]
    }
   ],
   "source": [
    "w_coordinates.show(1)"
   ]
  },
  {
   "cell_type": "code",
   "execution_count": 15,
   "metadata": {},
   "outputs": [],
   "source": [
    "clustering_input = w_coordinates.select([\"x\", \"y\"])"
   ]
  },
  {
   "cell_type": "code",
   "execution_count": 16,
   "metadata": {},
   "outputs": [],
   "source": [
    "assembler = VectorAssembler(inputCols=[\"x\", \"y\"], outputCol='features')\n",
    "clustering_input = assembler.transform(clustering_input)"
   ]
  },
  {
   "cell_type": "code",
   "execution_count": null,
   "metadata": {},
   "outputs": [],
   "source": []
  },
  {
   "cell_type": "code",
   "execution_count": 17,
   "metadata": {},
   "outputs": [],
   "source": [
    "SEED = 1\n",
    "# k_list = range(3, 30)\n",
    "# distances = []\n",
    "# sillhouettes = []\n",
    "# for k in k_list:\n",
    "#     kmeans = KMeans().setK(k).setSeed(SEED)\n",
    "#     model = kmeans.fit(clustering_input)\n",
    "#     predictions = model.transform(clustering_input)\n",
    "    \n",
    "#     total_dist = model.computeCost(clustering_input)\n",
    "#     evaluator = ClusteringEvaluator()\n",
    "    \n",
    "#     distances.append(total_dist)\n",
    "#     sillhouettes.append(evaluator.evaluate(predictions))"
   ]
  },
  {
   "cell_type": "code",
   "execution_count": 18,
   "metadata": {},
   "outputs": [],
   "source": [
    "# fig, (ax1, ax2) = plt.subplots(1, 2)\n",
    "\n",
    "# ax1.plot(k_list, distances)\n",
    "# ax1.set_title(\"Distance Sums with Different Ks\")\n",
    "\n",
    "# ax2.plot(k_list, sillhouettes)\n",
    "# ax2.set_title(\"Sillhouete with Different Ks\")\n",
    "\n",
    "# plt.show()"
   ]
  },
  {
   "cell_type": "code",
   "execution_count": 19,
   "metadata": {},
   "outputs": [],
   "source": [
    "kmeans = KMeans().setK(20).setSeed(SEED)\n",
    "\n",
    "model = kmeans.fit(clustering_input)\n",
    "predictions = model.transform(clustering_input)\n",
    "\n",
    "centroids = model.clusterCenters()"
   ]
  },
  {
   "cell_type": "code",
   "execution_count": 31,
   "metadata": {},
   "outputs": [],
   "source": [
    "w_coordinates = w_coordinates.withColumn(\"index\", F.monotonically_increasing_id())"
   ]
  },
  {
   "cell_type": "code",
   "execution_count": 20,
   "metadata": {},
   "outputs": [
    {
     "name": "stdout",
     "output_type": "stream",
     "text": [
      "+--------+----------+--------------------+----------+\n",
      "|       x|         y|            features|prediction|\n",
      "+--------+----------+--------------------+----------+\n",
      "|-49.2776|-25.384666|[-49.277599334716...|         0|\n",
      "|-43.9622|  -19.9278|[-43.962200164794...|         5|\n",
      "+--------+----------+--------------------+----------+\n",
      "only showing top 2 rows\n",
      "\n"
     ]
    }
   ],
   "source": [
    "predictions.show(2)"
   ]
  },
  {
   "cell_type": "code",
   "execution_count": null,
   "metadata": {},
   "outputs": [],
   "source": []
  },
  {
   "cell_type": "code",
   "execution_count": null,
   "metadata": {},
   "outputs": [],
   "source": []
  }
 ],
 "metadata": {
  "kernelspec": {
   "display_name": "Python 3",
   "language": "python",
   "name": "python3"
  },
  "language_info": {
   "codemirror_mode": {
    "name": "ipython",
    "version": 3
   },
   "file_extension": ".py",
   "mimetype": "text/x-python",
   "name": "python",
   "nbconvert_exporter": "python",
   "pygments_lexer": "ipython3",
   "version": "3.6.4"
  }
 },
 "nbformat": 4,
 "nbformat_minor": 2
}
