{
 "cells": [
  {
   "cell_type": "code",
   "execution_count": 1,
   "metadata": {},
   "outputs": [],
   "source": [
    "from pyspark.sql import SparkSession\n",
    "from pyspark.sql import functions as F\n",
    "\n",
    "from pyspark.ml.clustering import KMeans\n",
    "from pyspark.ml.evaluation import ClusteringEvaluator\n",
    "\n",
    "from pyspark.ml.feature import VectorAssembler\n",
    "\n",
    "from scikitplot.metrics import plot_silhouette\n",
    "\n",
    "import matplotlib.pyplot as plt\n",
    "import numpy as np\n",
    "import folium\n",
    "import warnings"
   ]
  },
  {
   "cell_type": "code",
   "execution_count": 2,
   "metadata": {},
   "outputs": [],
   "source": [
    "spark = SparkSession.builder.appName('pratical_work').getOrCreate()\n",
    "warnings.filterwarnings('ignore')"
   ]
  },
  {
   "cell_type": "code",
   "execution_count": 3,
   "metadata": {},
   "outputs": [],
   "source": [
    "data = spark.read.parquet(\"hdfs:///user/ghra2016/cleaned_data\")"
   ]
  },
  {
   "cell_type": "code",
   "execution_count": 4,
   "metadata": {},
   "outputs": [
    {
     "name": "stdout",
     "output_type": "stream",
     "text": [
      "root\n",
      " |-- id_str: string (nullable = true)\n",
      " |-- text: string (nullable = true)\n",
      " |-- hashtags: string (nullable = true)\n",
      " |-- x: float (nullable = true)\n",
      " |-- y: float (nullable = true)\n",
      " |-- year: integer (nullable = true)\n",
      " |-- month: integer (nullable = true)\n",
      " |-- day: integer (nullable = true)\n",
      " |-- hour: integer (nullable = true)\n",
      "\n",
      "+------------------+--------------------+--------+---+---+----+-----+---+----+\n",
      "|            id_str|                text|hashtags|  x|  y|year|month|day|hour|\n",
      "+------------------+--------------------+--------+---+---+----+-----+---+----+\n",
      "|721527751338024960|To morrendo de so...|      []|NaN|NaN|2016|    4| 17|   2|\n",
      "+------------------+--------------------+--------+---+---+----+-----+---+----+\n",
      "only showing top 1 row\n",
      "\n"
     ]
    }
   ],
   "source": [
    "data.printSchema()\n",
    "data.show(1)"
   ]
  },
  {
   "cell_type": "code",
   "execution_count": 5,
   "metadata": {},
   "outputs": [],
   "source": [
    "remove_square_brackets = F.udf(lambda s: s[1:-1])"
   ]
  },
  {
   "cell_type": "code",
   "execution_count": 6,
   "metadata": {},
   "outputs": [],
   "source": [
    "data = data.withColumn(\"hashtags\", remove_square_brackets(data.hashtags))\n",
    "data = data.withColumn(\"hashtags\", F.lower(data.hashtags))\n",
    "data = data.withColumn(\"hashtags\", F.explode(F.split(\"hashtags\", ',')))\n",
    "data = data.withColumn(\"hashtags\", F.trim(data.hashtags))"
   ]
  },
  {
   "cell_type": "code",
   "execution_count": 7,
   "metadata": {},
   "outputs": [],
   "source": [
    "hashtags_frequencies = data.filter((data.hour == 2) & (data.hashtags != ''))\\\n",
    "                            .groupby(\"hashtags\")\\\n",
    "                            .agg(F.count('*').alias(\"frequency\"))\\\n",
    "                            .sort(\"frequency\", ascending=False)\\\n",
    "                            .collect()"
   ]
  },
  {
   "cell_type": "code",
   "execution_count": 8,
   "metadata": {},
   "outputs": [
    {
     "data": {
      "image/png": "[encoded data removed]",
      "text/plain": [
       "<Figure size 432x288 with 1 Axes>"
      ]
     },
     "metadata": {
      "needs_background": "light"
     },
     "output_type": "display_data"
    }
   ],
   "source": [
    "hashtags = [item.hashtags for item in hashtags_frequencies[:15]]\n",
    "frequencies = [item.frequency for item in hashtags_frequencies[:15]]\n",
    "\n",
    "plt.bar(hashtags, frequencies)\n",
    "plt.xticks(rotation=\"vertical\")\n",
    "plt.show()"
   ]
  },
  {
   "cell_type": "code",
   "execution_count": null,
   "metadata": {},
   "outputs": [],
   "source": []
  },
  {
   "cell_type": "code",
   "execution_count": 9,
   "metadata": {},
   "outputs": [],
   "source": [
    "hashtags = hashtags[:10]\n",
    "most_freq_tags = data.select(\"hashtags\", \"month\", \"day\", \"hour\")\\\n",
    "                        .filter(data.hashtags.isin(hashtags))\\\n",
    "                        .groupby(\"hashtags\", \"month\", \"day\", \"hour\")\\\n",
    "                        .agg(F.count(\"*\").alias(\"freq\"))\\\n",
    "                        .sort(\"hashtags\", F.desc(\"freq\"), \"month\", \"day\", \"hour\")\\\n",
    "                        .collect()"
   ]
  },
  {
   "cell_type": "code",
   "execution_count": null,
   "metadata": {},
   "outputs": [],
   "source": []
  },
  {
   "cell_type": "code",
   "execution_count": 10,
   "metadata": {},
   "outputs": [],
   "source": [
    "most_freq = []\n",
    "prev_tag = ''\n",
    "\n",
    "for item in most_freq_tags:\n",
    "    if item.hashtags != prev_tag:\n",
    "        most_freq.append(item)\n",
    "        prev_tag = item.hashtags\n",
    "        \n",
    "most_freq.sort(key=lambda k: k.freq, reverse=True)"
   ]
  },
  {
   "cell_type": "code",
   "execution_count": 11,
   "metadata": {},
   "outputs": [],
   "source": [
    "num_to_month = {1:\"Jan\", 2:\"Feb\", 3:\"Mar\", 4:\"Apr\", 5:\"May\", 6:\"Jun\", \n",
    "                7:\"Jul\", 8:\"Aug\", 9:\"Sep\", 10:\"Oct\", 11:\"Nov\", 12:\"Dec\"}"
   ]
  },
  {
   "cell_type": "code",
   "execution_count": null,
   "metadata": {},
   "outputs": [],
   "source": []
  },
  {
   "cell_type": "code",
   "execution_count": 12,
   "metadata": {},
   "outputs": [
    {
     "data": {
      "image/png": "[encoded data removed]",
      "text/plain": [
       "<Figure size 432x288 with 1 Axes>"
      ]
     },
     "metadata": {
      "needs_background": "light"
     },
     "output_type": "display_data"
    }
   ],
   "source": [
    "x = [item.hashtags for item in most_freq]\n",
    "y = [\"{} {} at {} hrs\".format(num_to_month[item.month], item.day, item.hour) for item in most_freq]\n",
    "bubble_size = [item.freq for item in most_freq]\n",
    "bubble_size = np.array(bubble_size) / np.sum(bubble_size) * 1000\n",
    "    \n",
    "plt.scatter(x,y,s=bubble_size)\n",
    "plt.xticks(rotation=\"vertical\")\n",
    "plt.title(\"\")\n",
    "plt.show()"
   ]
  },
  {
   "cell_type": "code",
   "execution_count": 13,
   "metadata": {},
   "outputs": [],
   "source": [
    "w_coordinates = data.select([\"hashtags\", \"x\", \"y\"]).na.drop()"
   ]
  },
  {
   "cell_type": "code",
   "execution_count": 14,
   "metadata": {},
   "outputs": [
    {
     "name": "stdout",
     "output_type": "stream",
     "text": [
      "+--------+----------+--------+\n",
      "|hashtags|         x|       y|\n",
      "+--------+----------+--------+\n",
      "|elekfans|-25.384666|-49.2776|\n",
      "+--------+----------+--------+\n",
      "only showing top 1 row\n",
      "\n"
     ]
    }
   ],
   "source": [
    "w_coordinates.show(1)"
   ]
  },
  {
   "cell_type": "code",
   "execution_count": 15,
   "metadata": {},
   "outputs": [],
   "source": [
    "clustering_input = w_coordinates.select([\"x\", \"y\"])"
   ]
  },
  {
   "cell_type": "code",
   "execution_count": 16,
   "metadata": {},
   "outputs": [],
   "source": [
    "assembler = VectorAssembler(inputCols=[\"x\", \"y\"], outputCol='features')\n",
    "clustering_input = assembler.transform(clustering_input)"
   ]
  },
  {
   "cell_type": "code",
   "execution_count": 17,
   "metadata": {},
   "outputs": [],
   "source": [
    "SEED = 1\n",
    "k_list = range(3, 30)\n",
    "distances = []\n",
    "sillhouettes = []\n",
    "for k in k_list:\n",
    "    kmeans = KMeans().setK(k).setSeed(SEED)\n",
    "    model = kmeans.fit(clustering_input)\n",
    "    predictions = model.transform(clustering_input)\n",
    "    \n",
    "    total_dist = model.computeCost(clustering_input)\n",
    "    evaluator = ClusteringEvaluator()\n",
    "    \n",
    "    distances.append(total_dist)\n",
    "    sillhouettes.append(evaluator.evaluate(predictions))"
   ]
  },
  {
   "cell_type": "code",
   "execution_count": 18,
   "metadata": {},
   "outputs": [
    {
     "data": {
      "image/png": "[encoded data removed]",
      "text/plain": [
       "<Figure size 432x288 with 2 Axes>"
      ]
     },
     "metadata": {
      "needs_background": "light"
     },
     "output_type": "display_data"
    }
   ],
   "source": [
    "fig, (ax1, ax2) = plt.subplots(1, 2)\n",
    "\n",
    "ax1.plot(k_list, distances)\n",
    "ax1.set_title(\"Error\")\n",
    "\n",
    "ax2.plot(k_list, sillhouettes)\n",
    "ax2.set_title(\"Sillhouete\")\n",
    "\n",
    "plt.show()"
   ]
  },
  {
   "cell_type": "code",
   "execution_count": 19,
   "metadata": {},
   "outputs": [],
   "source": [
    "N_CLUSTERS = 3"
   ]
  },
  {
   "cell_type": "code",
   "execution_count": 20,
   "metadata": {},
   "outputs": [],
   "source": [
    "kmeans = KMeans().setK(N_CLUSTERS).setSeed(SEED)\n",
    "\n",
    "model = kmeans.fit(clustering_input)\n",
    "predictions = model.transform(clustering_input)\n",
    "\n",
    "centroids = model.clusterCenters()"
   ]
  },
  {
   "cell_type": "code",
   "execution_count": 21,
   "metadata": {},
   "outputs": [],
   "source": [
    "w_coordinates = w_coordinates.withColumn(\"index\", F.monotonically_increasing_id())"
   ]
  },
  {
   "cell_type": "code",
   "execution_count": 22,
   "metadata": {},
   "outputs": [],
   "source": [
    "predictions = predictions.select(\"prediction\").withColumn(\"index\", F.monotonically_increasing_id())"
   ]
  },
  {
   "cell_type": "code",
   "execution_count": 23,
   "metadata": {},
   "outputs": [
    {
     "name": "stdout",
     "output_type": "stream",
     "text": [
      "+--------+----------+--------+-----+\n",
      "|hashtags|         x|       y|index|\n",
      "+--------+----------+--------+-----+\n",
      "|elekfans|-25.384666|-49.2776|    0|\n",
      "+--------+----------+--------+-----+\n",
      "only showing top 1 row\n",
      "\n",
      "+----------+-----+\n",
      "|prediction|index|\n",
      "+----------+-----+\n",
      "|         0|    0|\n",
      "+----------+-----+\n",
      "only showing top 1 row\n",
      "\n"
     ]
    }
   ],
   "source": [
    "w_coordinates.show(1)\n",
    "predictions.show(1)"
   ]
  },
  {
   "cell_type": "code",
   "execution_count": 24,
   "metadata": {},
   "outputs": [],
   "source": [
    "w_coordinates = w_coordinates.join(predictions, predictions.index==w_coordinates.index)\n",
    "w_coordinates = w_coordinates.drop(\"index\")"
   ]
  },
  {
   "cell_type": "code",
   "execution_count": null,
   "metadata": {},
   "outputs": [],
   "source": []
  },
  {
   "cell_type": "code",
   "execution_count": 25,
   "metadata": {},
   "outputs": [
    {
     "data": {
      "image/png": "[encoded data removed]",
      "text/plain": [
       "<Figure size 432x288 with 1 Axes>"
      ]
     },
     "metadata": {
      "needs_background": "light"
     },
     "output_type": "display_data"
    }
   ],
   "source": [
    "for k in range(N_CLUSTERS):\n",
    "    k_X = w_coordinates.select([\"x\", \"y\"]).where(w_coordinates.prediction == k).toPandas().values\n",
    "    plt.scatter(k_X[:, :1], k_X[:, 1:])\n",
    "\n",
    "plt.show()"
   ]
  },
  {
   "cell_type": "code",
   "execution_count": 26,
   "metadata": {},
   "outputs": [],
   "source": [
    "w_coordinates = w_coordinates.filter(w_coordinates.hashtags != '')"
   ]
  },
  {
   "cell_type": "code",
   "execution_count": 27,
   "metadata": {},
   "outputs": [],
   "source": [
    "most_freq_cluster = w_coordinates.groupby(\"hashtags\", \"prediction\")\\\n",
    "                                    .agg(F.count('*').alias(\"count\"))\\\n",
    "                                    .sort(\"prediction\", F.desc(\"count\")).collect()"
   ]
  },
  {
   "cell_type": "code",
   "execution_count": 28,
   "metadata": {},
   "outputs": [],
   "source": [
    "most_freq = []\n",
    "prev_class = -1\n",
    "for row in most_freq_cluster:\n",
    "    if row.prediction != prev_class:\n",
    "        most_freq.append(row)\n",
    "        prev_class = row.prediction"
   ]
  },
  {
   "cell_type": "code",
   "execution_count": null,
   "metadata": {},
   "outputs": [],
   "source": []
  },
  {
   "cell_type": "code",
   "execution_count": 29,
   "metadata": {},
   "outputs": [],
   "source": [
    "sp = folium.Map(\n",
    "    location=[-25.441105, -49.276855],\n",
    "    zoom_start=4\n",
    ")\n",
    "\n",
    "hashtags = [item.hashtags for item in most_freq]\n",
    "lat = [item[0] for item in centroids]\n",
    "long = [item[1] for item in centroids]\n",
    "\n",
    "for _lat, _long, tag in zip(lat, long, hashtags):\n",
    "    folium.Marker(\n",
    "        popup=tag,\n",
    "        location=[_lat,_long]\n",
    "    ).add_to(sp)"
   ]
  },
  {
   "cell_type": "code",
   "execution_count": 30,
   "metadata": {},
   "outputs": [
    {
     "data": {
      "text/html": [
       "<div style=\"width:100%;\"><div style=\"position:relative;width:100%;height:0;padding-bottom:60%;\"><iframe src=\"data:text/html;charset=utf-8;base64,PCFET0NUWVBFIGh0bWw+CjxoZWFkPiAgICAKICAgIDxtZXRhIGh0dHAtZXF1aXY9ImNvbnRlbnQtdHlwZSIgY29udGVudD0idGV4dC9odG1sOyBjaGFyc2V0PVVURi04IiAvPgogICAgCiAgICAgICAgPHNjcmlwdD4KICAgICAgICAgICAgTF9OT19UT1VDSCA9IGZhbHNlOwogICAgICAgICAgICBMX0RJU0FCTEVfM0QgPSBmYWxzZTsKICAgICAgICA8L3NjcmlwdD4KICAgIAogICAgPHNjcmlwdCBzcmM9Imh0dHBzOi8vY2RuLmpzZGVsaXZyLm5ldC9ucG0vbGVhZmxldEAxLjUuMS9kaXN0L2xlYWZsZXQuanMiPjwvc2NyaXB0PgogICAgPHNjcmlwdCBzcmM9Imh0dHBzOi8vY29kZS5qcXVlcnkuY29tL2pxdWVyeS0xLjEyLjQubWluLmpzIj48L3NjcmlwdD4KICAgIDxzY3JpcHQgc3JjPSJodHRwczovL21heGNkbi5ib290c3RyYXBjZG4uY29tL2Jvb3RzdHJhcC8zLjIuMC9qcy9ib290c3RyYXAubWluLmpzIj48L3NjcmlwdD4KICAgIDxzY3JpcHQgc3JjPSJodHRwczovL2NkbmpzLmNsb3VkZmxhcmUuY29tL2FqYXgvbGlicy9MZWFmbGV0LmF3ZXNvbWUtbWFya2Vycy8yLjAuMi9sZWFmbGV0LmF3ZXNvbWUtbWFya2Vycy5qcyI+PC9zY3JpcHQ+CiAgICA8bGluayByZWw9InN0eWxlc2hlZXQiIGhyZWY9Imh0dHBzOi8vY2RuLmpzZGVsaXZyLm5ldC9ucG0vbGVhZmxldEAxLjUuMS9kaXN0L2xlYWZsZXQuY3NzIi8+CiAgICA8bGluayByZWw9InN0eWxlc2hlZXQiIGhyZWY9Imh0dHBzOi8vbWF4Y2RuLmJvb3RzdHJhcGNkbi5jb20vYm9vdHN0cmFwLzMuMi4wL2Nzcy9ib290c3RyYXAubWluLmNzcyIvPgogICAgPGxpbmsgcmVsPSJzdHlsZXNoZWV0IiBocmVmPSJodHRwczovL21heGNkbi5ib290c3RyYXBjZG4uY29tL2Jvb3RzdHJhcC8zLjIuMC9jc3MvYm9vdHN0cmFwLXRoZW1lLm1pbi5jc3MiLz4KICAgIDxsaW5rIHJlbD0ic3R5bGVzaGVldCIgaHJlZj0iaHR0cHM6Ly9tYXhjZG4uYm9vdHN0cmFwY2RuLmNvbS9mb250LWF3ZXNvbWUvNC42LjMvY3NzL2ZvbnQtYXdlc29tZS5taW4uY3NzIi8+CiAgICA8bGluayByZWw9InN0eWxlc2hlZXQiIGhyZWY9Imh0dHBzOi8vY2RuanMuY2xvdWRmbGFyZS5jb20vYWpheC9saWJzL0xlYWZsZXQuYXdlc29tZS1tYXJrZXJzLzIuMC4yL2xlYWZsZXQuYXdlc29tZS1tYXJrZXJzLmNzcyIvPgogICAgPGxpbmsgcmVsPSJzdHlsZXNoZWV0IiBocmVmPSJodHRwczovL3Jhd2Nkbi5naXRoYWNrLmNvbS9weXRob24tdmlzdWFsaXphdGlvbi9mb2xpdW0vbWFzdGVyL2ZvbGl1bS90ZW1wbGF0ZXMvbGVhZmxldC5hd2Vzb21lLnJvdGF0ZS5jc3MiLz4KICAgIDxzdHlsZT5odG1sLCBib2R5IHt3aWR0aDogMTAwJTtoZWlnaHQ6IDEwMCU7bWFyZ2luOiAwO3BhZGRpbmc6IDA7fTwvc3R5bGU+CiAgICA8c3R5bGU+I21hcCB7cG9zaXRpb246YWJzb2x1dGU7dG9wOjA7Ym90dG9tOjA7cmlnaHQ6MDtsZWZ0OjA7fTwvc3R5bGU+CiAgICAKICAgICAgICAgICAgPG1ldGEgbmFtZT0idmlld3BvcnQiIGNvbnRlbnQ9IndpZHRoPWRldmljZS13aWR0aCwKICAgICAgICAgICAgICAgIGluaXRpYWwtc2NhbGU9MS4wLCBtYXhpbXVtLXNjYWxlPTEuMCwgdXNlci1zY2FsYWJsZT1ubyIgLz4KICAgICAgICAgICAgPHN0eWxlPgogICAgICAgICAgICAgICAgI21hcF9lYTk5NzEyNTIyZTY0YWY2YTZiMmMxMjA2ZTU3ZmZlMiB7CiAgICAgICAgICAgICAgICAgICAgcG9zaXRpb246IHJlbGF0aXZlOwogICAgICAgICAgICAgICAgICAgIHdpZHRoOiAxMDAuMCU7CiAgICAgICAgICAgICAgICAgICAgaGVpZ2h0OiAxMDAuMCU7CiAgICAgICAgICAgICAgICAgICAgbGVmdDogMC4wJTsKICAgICAgICAgICAgICAgICAgICB0b3A6IDAuMCU7CiAgICAgICAgICAgICAgICB9CiAgICAgICAgICAgIDwvc3R5bGU+CiAgICAgICAgCjwvaGVhZD4KPGJvZHk+ICAgIAogICAgCiAgICAgICAgICAgIDxkaXYgY2xhc3M9ImZvbGl1bS1tYXAiIGlkPSJtYXBfZWE5OTcxMjUyMmU2NGFmNmE2YjJjMTIwNmU1N2ZmZTIiID48L2Rpdj4KICAgICAgICAKPC9ib2R5Pgo8c2NyaXB0PiAgICAKICAgIAogICAgICAgICAgICB2YXIgbWFwX2VhOTk3MTI1MjJlNjRhZjZhNmIyYzEyMDZlNTdmZmUyID0gTC5tYXAoCiAgICAgICAgICAgICAgICAibWFwX2VhOTk3MTI1MjJlNjRhZjZhNmIyYzEyMDZlNTdmZmUyIiwKICAgICAgICAgICAgICAgIHsKICAgICAgICAgICAgICAgICAgICBjZW50ZXI6IFstMjUuNDQxMTA1LCAtNDkuMjc2ODU1XSwKICAgICAgICAgICAgICAgICAgICBjcnM6IEwuQ1JTLkVQU0czODU3LAogICAgICAgICAgICAgICAgICAgIHpvb206IDQsCiAgICAgICAgICAgICAgICAgICAgem9vbUNvbnRyb2w6IHRydWUsCiAgICAgICAgICAgICAgICAgICAgcHJlZmVyQ2FudmFzOiBmYWxzZSwKICAgICAgICAgICAgICAgIH0KICAgICAgICAgICAgKTsKCiAgICAgICAgICAgIAoKICAgICAgICAKICAgIAogICAgICAgICAgICB2YXIgdGlsZV9sYXllcl9lMWFiYzM3M2Y4Y2I0NWYyODIxMzg2NTA5MmYzZTQ0OSA9IEwudGlsZUxheWVyKAogICAgICAgICAgICAgICAgImh0dHBzOi8ve3N9LnRpbGUub3BlbnN0cmVldG1hcC5vcmcve3p9L3t4fS97eX0ucG5nIiwKICAgICAgICAgICAgICAgIHsiYXR0cmlidXRpb24iOiAiRGF0YSBieSBcdTAwMjZjb3B5OyBcdTAwM2NhIGhyZWY9XCJodHRwOi8vb3BlbnN0cmVldG1hcC5vcmdcIlx1MDAzZU9wZW5TdHJlZXRNYXBcdTAwM2MvYVx1MDAzZSwgdW5kZXIgXHUwMDNjYSBocmVmPVwiaHR0cDovL3d3dy5vcGVuc3RyZWV0bWFwLm9yZy9jb3B5cmlnaHRcIlx1MDAzZU9EYkxcdTAwM2MvYVx1MDAzZS4iLCAiZGV0ZWN0UmV0aW5hIjogZmFsc2UsICJtYXhOYXRpdmVab29tIjogMTgsICJtYXhab29tIjogMTgsICJtaW5ab29tIjogMCwgIm5vV3JhcCI6IGZhbHNlLCAib3BhY2l0eSI6IDEsICJzdWJkb21haW5zIjogImFiYyIsICJ0bXMiOiBmYWxzZX0KICAgICAgICAgICAgKS5hZGRUbyhtYXBfZWE5OTcxMjUyMmU2NGFmNmE2YjJjMTIwNmU1N2ZmZTIpOwogICAgICAgIAogICAgCiAgICAgICAgICAgIHZhciBtYXJrZXJfYTdkZjM0ZGU5NmZjNDc3YjhmNDFiYjRlNGQ2YWEzYTcgPSBMLm1hcmtlcigKICAgICAgICAgICAgICAgIFstMjUuNDM3MzE4MDE2NzM4MjcsIC00OS4yNjEyMDMzNDgwNDk4NTRdLAogICAgICAgICAgICAgICAge30KICAgICAgICAgICAgKS5hZGRUbyhtYXBfZWE5OTcxMjUyMmU2NGFmNmE2YjJjMTIwNmU1N2ZmZTIpOwogICAgICAgIAogICAgCiAgICAgICAgdmFyIHBvcHVwX2RkYjI4Mjc0YzY2NDRjZTE4MTJjNTVmYjdlOWU1ODFkID0gTC5wb3B1cCh7Im1heFdpZHRoIjogIjEwMCUifSk7CgogICAgICAgIAogICAgICAgICAgICB2YXIgaHRtbF8xYWI5ODc3YzIxYWQ0N2FlYTQyNzMxYjYyNGVkOTU5YyA9ICQoYDxkaXYgaWQ9Imh0bWxfMWFiOTg3N2MyMWFkNDdhZWE0MjczMWI2MjRlZDk1OWMiIHN0eWxlPSJ3aWR0aDogMTAwLjAlOyBoZWlnaHQ6IDEwMC4wJTsiPmN1cml0aWJhPC9kaXY+YClbMF07CiAgICAgICAgICAgIHBvcHVwX2RkYjI4Mjc0YzY2NDRjZTE4MTJjNTVmYjdlOWU1ODFkLnNldENvbnRlbnQoaHRtbF8xYWI5ODc3YzIxYWQ0N2FlYTQyNzMxYjYyNGVkOTU5Yyk7CiAgICAgICAgCgogICAgICAgIG1hcmtlcl9hN2RmMzRkZTk2ZmM0NzdiOGY0MWJiNGU0ZDZhYTNhNy5iaW5kUG9wdXAocG9wdXBfZGRiMjgyNzRjNjY0NGNlMTgxMmM1NWZiN2U5ZTU4MWQpCiAgICAgICAgOwoKICAgICAgICAKICAgIAogICAgCiAgICAgICAgICAgIHZhciBtYXJrZXJfOTE4Y2I5YTY4YmJkNGE0YjllZmRiNjY1NWEwZTViYjEgPSBMLm1hcmtlcigKICAgICAgICAgICAgICAgIFstNy4zODI4NjEwNzQ1MjM1NDYsIC0zOC4zMzI3NjI1MTQxODA4MV0sCiAgICAgICAgICAgICAgICB7fQogICAgICAgICAgICApLmFkZFRvKG1hcF9lYTk5NzEyNTIyZTY0YWY2YTZiMmMxMjA2ZTU3ZmZlMik7CiAgICAgICAgCiAgICAKICAgICAgICB2YXIgcG9wdXBfMDI3NWQxMGQxZDYwNGIwOTk5ZGM2ZDkxM2UxN2M0NWUgPSBMLnBvcHVwKHsibWF4V2lkdGgiOiAiMTAwJSJ9KTsKCiAgICAgICAgCiAgICAgICAgICAgIHZhciBodG1sXzQ2YzBkOTNjZWQ0NjQwOTRhMGZhMmUyMjQ1NGM3MTAzID0gJChgPGRpdiBpZD0iaHRtbF80NmMwZDkzY2VkNDY0MDk0YTBmYTJlMjI0NTRjNzEwMyIgc3R5bGU9IndpZHRoOiAxMDAuMCU7IGhlaWdodDogMTAwLjAlOyI+ZW5kb21vbmRvPC9kaXY+YClbMF07CiAgICAgICAgICAgIHBvcHVwXzAyNzVkMTBkMWQ2MDRiMDk5OWRjNmQ5MTNlMTdjNDVlLnNldENvbnRlbnQoaHRtbF80NmMwZDkzY2VkNDY0MDk0YTBmYTJlMjI0NTRjNzEwMyk7CiAgICAgICAgCgogICAgICAgIG1hcmtlcl85MThjYjlhNjhiYmQ0YTRiOWVmZGI2NjU1YTBlNWJiMS5iaW5kUG9wdXAocG9wdXBfMDI3NWQxMGQxZDYwNGIwOTk5ZGM2ZDkxM2UxN2M0NWUpCiAgICAgICAgOwoKICAgICAgICAKICAgIAogICAgCiAgICAgICAgICAgIHZhciBtYXJrZXJfNDIwNzE0ZWY5NDk2NDQ0Y2FlMWRmZjgwMTQ3ZTJiMWUgPSBMLm1hcmtlcigKICAgICAgICAgICAgICAgIFstMTMuMzM0OTgwNTUzNzY5MDUsIC01MS44NTg4MjA5NDkwNDA0MV0sCiAgICAgICAgICAgICAgICB7fQogICAgICAgICAgICApLmFkZFRvKG1hcF9lYTk5NzEyNTIyZTY0YWY2YTZiMmMxMjA2ZTU3ZmZlMik7CiAgICAgICAgCiAgICAKICAgICAgICB2YXIgcG9wdXBfODQ2YTUxNWIxNDgyNDRmODk3Zjk1MzY1MWU2OGMxOWIgPSBMLnBvcHVwKHsibWF4V2lkdGgiOiAiMTAwJSJ9KTsKCiAgICAgICAgCiAgICAgICAgICAgIHZhciBodG1sX2ZlOGFkNjU0MzY2MDRlNmJiZmFmNWMyYmQxZDllMzllID0gJChgPGRpdiBpZD0iaHRtbF9mZThhZDY1NDM2NjA0ZTZiYmZhZjVjMmJkMWQ5ZTM5ZSIgc3R5bGU9IndpZHRoOiAxMDAuMCU7IGhlaWdodDogMTAwLjAlOyI+Y3VyaXRpYmE8L2Rpdj5gKVswXTsKICAgICAgICAgICAgcG9wdXBfODQ2YTUxNWIxNDgyNDRmODk3Zjk1MzY1MWU2OGMxOWIuc2V0Q29udGVudChodG1sX2ZlOGFkNjU0MzY2MDRlNmJiZmFmNWMyYmQxZDllMzllKTsKICAgICAgICAKCiAgICAgICAgbWFya2VyXzQyMDcxNGVmOTQ5NjQ0NGNhZTFkZmY4MDE0N2UyYjFlLmJpbmRQb3B1cChwb3B1cF84NDZhNTE1YjE0ODI0NGY4OTdmOTUzNjUxZTY4YzE5YikKICAgICAgICA7CgogICAgICAgIAogICAgCjwvc2NyaXB0Pg==\" style=\"position:absolute;width:100%;height:100%;left:0;top:0;border:none !important;\" allowfullscreen webkitallowfullscreen mozallowfullscreen></iframe></div></div>"
      ],
      "text/plain": [
       "<folium.folium.Map at 0x7f36f94f1c50>"
      ]
     },
     "execution_count": 30,
     "metadata": {},
     "output_type": "execute_result"
    }
   ],
   "source": [
    "sp"
   ]
  },
  {
   "cell_type": "code",
   "execution_count": null,
   "metadata": {},
   "outputs": [],
   "source": []
  }
 ],
 "metadata": {
  "kernelspec": {
   "display_name": "Python 3",
   "language": "python",
   "name": "python3"
  },
  "language_info": {
   "codemirror_mode": {
    "name": "ipython",
    "version": 3
   },
   "file_extension": ".py",
   "mimetype": "text/x-python",
   "name": "python",
   "nbconvert_exporter": "python",
   "pygments_lexer": "ipython3",
   "version": "3.6.4"
  }
 },
 "nbformat": 4,
 "nbformat_minor": 2
}
