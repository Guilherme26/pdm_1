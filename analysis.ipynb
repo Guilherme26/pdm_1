{
 "cells": [
  {
   "cell_type": "markdown",
   "metadata": {},
   "source": [
    "Reference https://developer.twitter.com/en/docs/tweets/data-dictionary/overview/tweet-object\n",
    "- quais as 10 hashtags que foram mais publicadas dentro de uma hora qualquer durante o período da coleta? Isto é, para cada hora, do minuto 00 até o minuto 59, conte quantas vezes cada hashtag aparece. Ao final, identifique quais as 10 hashtags diferentes, o dia/hora em que cada uma foi mais frequente e quantas vezes ela apareceu naquela hora."
   ]
  },
  {
   "cell_type": "code",
   "execution_count": 1,
   "metadata": {},
   "outputs": [],
   "source": [
    "from pyspark.sql import SparkSession\n",
    "from pyspark.sql import functions as F\n",
    "\n",
    "from pyspark.ml.clustering import KMeans\n",
    "from pyspark.ml.evaluation import ClusteringEvaluator\n",
    "\n",
    "from pyspark.ml.feature import VectorAssembler\n",
    "from pyspark.sql.types import FloatType\n",
    "\n",
    "import matplotlib.pyplot as plt"
   ]
  },
  {
   "cell_type": "code",
   "execution_count": 2,
   "metadata": {},
   "outputs": [],
   "source": [
    "spark = SparkSession.builder.appName('pratical_work').getOrCreate()"
   ]
  },
  {
   "cell_type": "code",
   "execution_count": 3,
   "metadata": {},
   "outputs": [],
   "source": [
    "data = spark.read.parquet(\"hdfs:///user/ghra2016/cleaned_data\")"
   ]
  },
  {
   "cell_type": "code",
   "execution_count": 4,
   "metadata": {},
   "outputs": [
    {
     "name": "stdout",
     "output_type": "stream",
     "text": [
      "root\n",
      " |-- coordinates: struct (nullable = true)\n",
      " |    |-- coordinates: array (nullable = true)\n",
      " |    |    |-- element: double (containsNull = true)\n",
      " |    |-- type: string (nullable = true)\n",
      " |-- id_str: string (nullable = true)\n",
      " |-- text: string (nullable = true)\n",
      " |-- hashtags: array (nullable = true)\n",
      " |    |-- element: struct (containsNull = true)\n",
      " |    |    |-- indices: array (nullable = true)\n",
      " |    |    |    |-- element: long (containsNull = true)\n",
      " |    |    |-- text: string (nullable = true)\n",
      " |-- created_at: string (nullable = true)\n",
      "\n"
     ]
    }
   ],
   "source": [
    "data.printSchema()"
   ]
  },
  {
   "cell_type": "code",
   "execution_count": 5,
   "metadata": {},
   "outputs": [
    {
     "name": "stdout",
     "output_type": "stream",
     "text": [
      "+-----------+------------------+--------------------+--------+-------------+\n",
      "|coordinates|            id_str|                text|hashtags|   created_at|\n",
      "+-----------+------------------+--------------------+--------+-------------+\n",
      "|       null|721527751338024960|To morrendo de so...|      []|1460860595000|\n",
      "+-----------+------------------+--------------------+--------+-------------+\n",
      "only showing top 1 row\n",
      "\n"
     ]
    }
   ],
   "source": [
    "data.show(1)"
   ]
  },
  {
   "cell_type": "code",
   "execution_count": 6,
   "metadata": {},
   "outputs": [],
   "source": [
    "get_tags = F.udf(lambda tags: [item[1] for item in tags])\n",
    "get_x = F.udf(lambda item: item[0][0])\n",
    "get_y = F.udf(lambda item: item[0][1])"
   ]
  },
  {
   "cell_type": "code",
   "execution_count": 7,
   "metadata": {},
   "outputs": [],
   "source": [
    "w_coordinates = data.where(F.col(\"coordinates\").isNotNull())"
   ]
  },
  {
   "cell_type": "code",
   "execution_count": 8,
   "metadata": {},
   "outputs": [],
   "source": [
    "w_coordinates = w_coordinates.withColumn(\"hashtags\", get_tags(w_coordinates.hashtags))"
   ]
  },
  {
   "cell_type": "code",
   "execution_count": 9,
   "metadata": {},
   "outputs": [],
   "source": [
    "w_coordinates = w_coordinates.withColumn(\"x\", get_x(w_coordinates.coordinates).cast(FloatType()))\n",
    "w_coordinates = w_coordinates.withColumn(\"y\", get_y(w_coordinates.coordinates).cast(FloatType()))\n",
    "w_coordinates = w_coordinates.drop(\"coordinates\")"
   ]
  },
  {
   "cell_type": "code",
   "execution_count": 10,
   "metadata": {},
   "outputs": [
    {
     "name": "stdout",
     "output_type": "stream",
     "text": [
      "+------------------+--------------------+----------+-------------+--------+----------+\n",
      "|            id_str|                text|  hashtags|   created_at|       x|         y|\n",
      "+------------------+--------------------+----------+-------------+--------+----------+\n",
      "|721527270767202304|Warung Day Festiv...|[elekfans]|1460860481000|-49.2776|-25.384666|\n",
      "+------------------+--------------------+----------+-------------+--------+----------+\n",
      "only showing top 1 row\n",
      "\n"
     ]
    }
   ],
   "source": [
    "w_coordinates.show(1)"
   ]
  },
  {
   "cell_type": "code",
   "execution_count": 20,
   "metadata": {},
   "outputs": [],
   "source": [
    "clustering_input = w_coordinates.select([\"x\", \"y\"])"
   ]
  },
  {
   "cell_type": "code",
   "execution_count": 21,
   "metadata": {},
   "outputs": [],
   "source": [
    "assembler = VectorAssembler(inputCols=[\"x\", \"y\"], outputCol='features')\n",
    "clustering_input = assembler.transform(clustering_input)"
   ]
  },
  {
   "cell_type": "code",
   "execution_count": null,
   "metadata": {},
   "outputs": [],
   "source": []
  },
  {
   "cell_type": "code",
   "execution_count": 22,
   "metadata": {},
   "outputs": [],
   "source": [
    "SEED = 1\n",
    "k_list = range(3, 30)\n",
    "distances = []\n",
    "sillhouettes = []\n",
    "for k in k_list:\n",
    "    kmeans = KMeans().setK(k).setSeed(SEED)\n",
    "    model = kmeans.fit(clustering_input)\n",
    "    predictions = model.transform(clustering_input)\n",
    "    \n",
    "    total_dist = model.computeCost(clustering_input)\n",
    "    evaluator = ClusteringEvaluator()\n",
    "    \n",
    "    distances.append(total_dist)\n",
    "    sillhouettes.append(evaluator.evaluate(predictions))"
   ]
  },
  {
   "cell_type": "code",
   "execution_count": 23,
   "metadata": {},
   "outputs": [
    {
     "data": {
      "image/png": "[encoded data removed]",
      "text/plain": [
       "<Figure size 432x288 with 2 Axes>"
      ]
     },
     "metadata": {
      "needs_background": "light"
     },
     "output_type": "display_data"
    }
   ],
   "source": [
    "fig, (ax1, ax2) = plt.subplots(1, 2)\n",
    "\n",
    "# ax1.plot([str(label) for label in k_list], distances)\n",
    "ax1.plot(k_list, distances)\n",
    "ax1.set_title(\"Distance Sums with Different Ks\")\n",
    "\n",
    "# ax2.plot([str(label) for label in k_list], sillhouettes)\n",
    "ax2.plot(k_list, sillhouettes)\n",
    "ax2.set_title(\"Sillhouete with Different Ks\")\n",
    "\n",
    "plt.show()"
   ]
  },
  {
   "cell_type": "code",
   "execution_count": null,
   "metadata": {},
   "outputs": [],
   "source": [
    "# centroids = model.clusterCenters()"
   ]
  },
  {
   "cell_type": "code",
   "execution_count": null,
   "metadata": {},
   "outputs": [],
   "source": []
  },
  {
   "cell_type": "code",
   "execution_count": null,
   "metadata": {},
   "outputs": [],
   "source": []
  },
  {
   "cell_type": "code",
   "execution_count": null,
   "metadata": {},
   "outputs": [],
   "source": []
  },
  {
   "cell_type": "code",
   "execution_count": null,
   "metadata": {},
   "outputs": [],
   "source": []
  },
  {
   "cell_type": "code",
   "execution_count": null,
   "metadata": {},
   "outputs": [],
   "source": []
  },
  {
   "cell_type": "code",
   "execution_count": 11,
   "metadata": {},
   "outputs": [
    {
     "name": "stdout",
     "output_type": "stream",
     "text": [
      "+-----------+------------------+--------------------+--------+-------------+----+\n",
      "|coordinates|            id_str|                text|hashtags|   created_at|   x|\n",
      "+-----------+------------------+--------------------+--------+-------------+----+\n",
      "|       null|721527751338024960|To morrendo de so...|      []|1460860595000|null|\n",
      "+-----------+------------------+--------------------+--------+-------------+----+\n",
      "only showing top 1 row\n",
      "\n"
     ]
    }
   ],
   "source": [
    "from datetime import datetime\n",
    "\n",
    "data.withColumn(\"x\", F.to_timestamp(data.created_at)).show(1)"
   ]
  },
  {
   "cell_type": "code",
   "execution_count": 12,
   "metadata": {},
   "outputs": [
    {
     "name": "stdout",
     "output_type": "stream",
     "text": [
      "+-----------+------------------+--------------------+--------+-------------+\n",
      "|coordinates|            id_str|                text|hashtags|   created_at|\n",
      "+-----------+------------------+--------------------+--------+-------------+\n",
      "|       null|721527751338024960|To morrendo de so...|      []|1460860595000|\n",
      "+-----------+------------------+--------------------+--------+-------------+\n",
      "only showing top 1 row\n",
      "\n"
     ]
    }
   ],
   "source": [
    "data.show(1)"
   ]
  },
  {
   "cell_type": "code",
   "execution_count": 13,
   "metadata": {},
   "outputs": [],
   "source": [
    "from pyspark.sql.types import LongType, DateType\n",
    "data = data.withColumn(\"created_at\", F.udf(lambda s: s[:-3])(data.created_at))"
   ]
  },
  {
   "cell_type": "code",
   "execution_count": 14,
   "metadata": {},
   "outputs": [
    {
     "name": "stdout",
     "output_type": "stream",
     "text": [
      "+-----------+------------------+--------------------+--------+----------+\n",
      "|coordinates|            id_str|                text|hashtags|created_at|\n",
      "+-----------+------------------+--------------------+--------+----------+\n",
      "|       null|721527751338024960|To morrendo de so...|      []|1460860595|\n",
      "+-----------+------------------+--------------------+--------+----------+\n",
      "only showing top 1 row\n",
      "\n"
     ]
    }
   ],
   "source": [
    "data.show(1)"
   ]
  },
  {
   "cell_type": "code",
   "execution_count": 16,
   "metadata": {},
   "outputs": [
    {
     "name": "stdout",
     "output_type": "stream",
     "text": [
      "+-----------+------------------+--------------------+--------+----------+\n",
      "|coordinates|            id_str|                text|hashtags|created_at|\n",
      "+-----------+------------------+--------------------+--------+----------+\n",
      "|       null|721527751338024960|To morrendo de so...|      []|1460860595|\n",
      "+-----------+------------------+--------------------+--------+----------+\n",
      "only showing top 1 row\n",
      "\n"
     ]
    }
   ],
   "source": [
    "data.show(1)"
   ]
  },
  {
   "cell_type": "code",
   "execution_count": 21,
   "metadata": {},
   "outputs": [
    {
     "name": "stdout",
     "output_type": "stream",
     "text": [
      "+-----------+------------------+--------------------+--------+----------+\n",
      "|coordinates|            id_str|                text|hashtags|created_at|\n",
      "+-----------+------------------+--------------------+--------+----------+\n",
      "|       null|721527751338024960|To morrendo de so...|      []|      null|\n",
      "+-----------+------------------+--------------------+--------+----------+\n",
      "only showing top 1 row\n",
      "\n"
     ]
    }
   ],
   "source": [
    "data.withColumn(\"created_at\", F.to_timestamp(data.created_at, 'yyyy-MM-dd HH:mm:ss').alias('dt')).show(1)"
   ]
  },
  {
   "cell_type": "code",
   "execution_count": 19,
   "metadata": {},
   "outputs": [
    {
     "data": {
      "text/plain": [
       "0.06808391061080397"
      ]
     },
     "execution_count": 19,
     "metadata": {},
     "output_type": "execute_result"
    }
   ],
   "source": [
    "data.where(F.col(\"coordinates\").isNotNull()).count() / data.count()"
   ]
  },
  {
   "cell_type": "code",
   "execution_count": null,
   "metadata": {},
   "outputs": [],
   "source": []
  },
  {
   "cell_type": "code",
   "execution_count": null,
   "metadata": {},
   "outputs": [],
   "source": []
  },
  {
   "cell_type": "code",
   "execution_count": null,
   "metadata": {},
   "outputs": [],
   "source": []
  }
 ],
 "metadata": {
  "kernelspec": {
   "display_name": "Python 3",
   "language": "python",
   "name": "python3"
  },
  "language_info": {
   "codemirror_mode": {
    "name": "ipython",
    "version": 3
   },
   "file_extension": ".py",
   "mimetype": "text/x-python",
   "name": "python",
   "nbconvert_exporter": "python",
   "pygments_lexer": "ipython3",
   "version": "3.6.4"
  }
 },
 "nbformat": 4,
 "nbformat_minor": 2
}
